{
 "cells": [
  {
   "cell_type": "code",
   "execution_count": 1,
   "id": "dcd96100",
   "metadata": {},
   "outputs": [],
   "source": [
    "import pandas as pd\n",
    "import numpy as np\n",
    "from numpy import linalg as la\n",
    "import math\n",
    "import matplotlib.pyplot as plt\n",
    "from sklearn.model_selection import train_test_split\n",
    "from sklearn.linear_model import LinearRegression\n",
    "import warnings as wr\n",
    "import random"
   ]
  },
  {
   "cell_type": "code",
   "execution_count": 2,
   "id": "21f460f3",
   "metadata": {},
   "outputs": [
    {
     "name": "stdout",
     "output_type": "stream",
     "text": [
      "Requirement already satisfied: scipy in c:\\users\\somur\\anaconda3\\lib\\site-packages (1.10.1)\n",
      "Requirement already satisfied: numpy<1.27.0,>=1.19.5 in c:\\users\\somur\\anaconda3\\lib\\site-packages (from scipy) (1.24.3)\n"
     ]
    }
   ],
   "source": [
    "import sys\n",
    "!{sys.executable} -m pip install scipy"
   ]
  },
  {
   "cell_type": "code",
   "execution_count": 3,
   "id": "dc77c4aa",
   "metadata": {},
   "outputs": [],
   "source": [
    "import scipy.io"
   ]
  },
  {
   "cell_type": "code",
   "execution_count": 4,
   "id": "54c5deca",
   "metadata": {},
   "outputs": [],
   "source": [
    "def dataset_arrange(data_file):\n",
    "    if data_file[-3:] == 'mat':\n",
    "        load_file = scipy.io.loadmat(data_file)\n",
    "        p = pd.Series(load_file)\n",
    "        rows = load_file['hwyrows'][0][0]\n",
    "        cols = load_file['hwycols'][0][0]\n",
    "        data = load_file['hwydata']\n",
    "        states = []\n",
    "        headers = []\n",
    "        for i in range(rows):\n",
    "            states.append(load_file['statelabel'][i][0][0])\n",
    "        for j in range(cols):\n",
    "            headers.append(load_file['hwyheaders'][0][j][0])\n",
    "        dict_1 = {}\n",
    "        l_2 = []\n",
    "        for i in range(cols):\n",
    "            l_1 = []\n",
    "            for j in range(rows):\n",
    "                l_1.append(data[j][i])\n",
    "            l_2.append(l_1)\n",
    "        for i in range(cols):\n",
    "            dict_1[headers[i]] = l_2[i]\n",
    "        data_df = pd.DataFrame(dict_1)\n",
    "        states_df = pd.DataFrame({'states': states})\n",
    "        total_frame = [states_df,data_df]\n",
    "        total_df = pd.concat(total_frame,axis = 1,join =\"inner\")\n",
    "        \n",
    "    elif data_file[-3:] == 'csv':\n",
    "        load_file = pd.read_csv(data_file)\n",
    "        total_df = load_file\n",
    "    elif data_file[-3:] == 'xlsx':\n",
    "        load_file = pd.read_excel(data_file)\n",
    "        total_df = load_file\n",
    "    return total_df"
   ]
  },
  {
   "cell_type": "code",
   "execution_count": 5,
   "id": "acfcd53d",
   "metadata": {},
   "outputs": [
    {
     "data": {
      "text/html": [
       "<div>\n",
       "<style scoped>\n",
       "    .dataframe tbody tr th:only-of-type {\n",
       "        vertical-align: middle;\n",
       "    }\n",
       "\n",
       "    .dataframe tbody tr th {\n",
       "        vertical-align: top;\n",
       "    }\n",
       "\n",
       "    .dataframe thead th {\n",
       "        text-align: right;\n",
       "    }\n",
       "</style>\n",
       "<table border=\"1\" class=\"dataframe\">\n",
       "  <thead>\n",
       "    <tr style=\"text-align: right;\">\n",
       "      <th></th>\n",
       "      <th>states</th>\n",
       "      <th>Census ID</th>\n",
       "      <th>Centroid Longitude</th>\n",
       "      <th>Centroid Latitude</th>\n",
       "      <th>Traffic fatalities</th>\n",
       "      <th>Licensed drivers (thousands)</th>\n",
       "      <th>Registered vehicles (thousands)</th>\n",
       "      <th>Vehicle-miles traveled (millions)</th>\n",
       "      <th>Miles traveled per vehicle</th>\n",
       "      <th>Fatalities per 100K licensed drivers</th>\n",
       "      <th>Fatalities per 100K registered vehicles</th>\n",
       "      <th>Fatalities per 100M vehicle-miles traveled</th>\n",
       "      <th>Fatalities involving high blood alcohol</th>\n",
       "      <th>Percent Alcohol-Related</th>\n",
       "      <th>Total Population</th>\n",
       "      <th>Urban Population</th>\n",
       "      <th>Rural Population</th>\n",
       "      <th>Pct Urban Population</th>\n",
       "    </tr>\n",
       "  </thead>\n",
       "  <tbody>\n",
       "    <tr>\n",
       "      <th>0</th>\n",
       "      <td>Wyoming</td>\n",
       "      <td>56.0</td>\n",
       "      <td>-107.555625</td>\n",
       "      <td>43.032664</td>\n",
       "      <td>164.0</td>\n",
       "      <td>380.180</td>\n",
       "      <td>671.529</td>\n",
       "      <td>9261.0</td>\n",
       "      <td>13790.915954</td>\n",
       "      <td>43.137461</td>\n",
       "      <td>24.421879</td>\n",
       "      <td>1.770867</td>\n",
       "      <td>54.0</td>\n",
       "      <td>32.926829</td>\n",
       "      <td>493782.0</td>\n",
       "      <td>322073.0</td>\n",
       "      <td>171709.0</td>\n",
       "      <td>65.225747</td>\n",
       "    </tr>\n",
       "    <tr>\n",
       "      <th>1</th>\n",
       "      <td>District of Columbia</td>\n",
       "      <td>11.0</td>\n",
       "      <td>-77.026928</td>\n",
       "      <td>38.892064</td>\n",
       "      <td>43.0</td>\n",
       "      <td>349.122</td>\n",
       "      <td>240.403</td>\n",
       "      <td>3742.0</td>\n",
       "      <td>15565.529548</td>\n",
       "      <td>12.316611</td>\n",
       "      <td>17.886632</td>\n",
       "      <td>1.149118</td>\n",
       "      <td>12.0</td>\n",
       "      <td>27.906977</td>\n",
       "      <td>572059.0</td>\n",
       "      <td>572059.0</td>\n",
       "      <td>0.0</td>\n",
       "      <td>100.000000</td>\n",
       "    </tr>\n",
       "    <tr>\n",
       "      <th>2</th>\n",
       "      <td>Vermont</td>\n",
       "      <td>50.0</td>\n",
       "      <td>-72.556496</td>\n",
       "      <td>44.043498</td>\n",
       "      <td>98.0</td>\n",
       "      <td>550.462</td>\n",
       "      <td>551.516</td>\n",
       "      <td>7855.0</td>\n",
       "      <td>14242.560506</td>\n",
       "      <td>17.803227</td>\n",
       "      <td>17.769203</td>\n",
       "      <td>1.247613</td>\n",
       "      <td>20.0</td>\n",
       "      <td>20.408163</td>\n",
       "      <td>608827.0</td>\n",
       "      <td>232550.0</td>\n",
       "      <td>376277.0</td>\n",
       "      <td>38.196401</td>\n",
       "    </tr>\n",
       "    <tr>\n",
       "      <th>3</th>\n",
       "      <td>Alaska</td>\n",
       "      <td>2.0</td>\n",
       "      <td>-152.459342</td>\n",
       "      <td>64.609656</td>\n",
       "      <td>101.0</td>\n",
       "      <td>482.532</td>\n",
       "      <td>681.115</td>\n",
       "      <td>4990.0</td>\n",
       "      <td>7326.222444</td>\n",
       "      <td>20.931254</td>\n",
       "      <td>14.828627</td>\n",
       "      <td>2.024048</td>\n",
       "      <td>30.0</td>\n",
       "      <td>29.702970</td>\n",
       "      <td>626932.0</td>\n",
       "      <td>411955.0</td>\n",
       "      <td>214977.0</td>\n",
       "      <td>65.709678</td>\n",
       "    </tr>\n",
       "    <tr>\n",
       "      <th>4</th>\n",
       "      <td>North Dakota</td>\n",
       "      <td>38.0</td>\n",
       "      <td>-99.499793</td>\n",
       "      <td>47.469117</td>\n",
       "      <td>100.0</td>\n",
       "      <td>461.780</td>\n",
       "      <td>721.835</td>\n",
       "      <td>7594.0</td>\n",
       "      <td>10520.409789</td>\n",
       "      <td>21.655334</td>\n",
       "      <td>13.853581</td>\n",
       "      <td>1.316829</td>\n",
       "      <td>35.0</td>\n",
       "      <td>35.000000</td>\n",
       "      <td>642200.0</td>\n",
       "      <td>358394.0</td>\n",
       "      <td>283806.0</td>\n",
       "      <td>55.807225</td>\n",
       "    </tr>\n",
       "  </tbody>\n",
       "</table>\n",
       "</div>"
      ],
      "text/plain": [
       "                 states  Census ID  Centroid Longitude  Centroid Latitude  \\\n",
       "0               Wyoming       56.0         -107.555625          43.032664   \n",
       "1  District of Columbia       11.0          -77.026928          38.892064   \n",
       "2               Vermont       50.0          -72.556496          44.043498   \n",
       "3                Alaska        2.0         -152.459342          64.609656   \n",
       "4          North Dakota       38.0          -99.499793          47.469117   \n",
       "\n",
       "   Traffic fatalities  Licensed drivers (thousands)  \\\n",
       "0               164.0                       380.180   \n",
       "1                43.0                       349.122   \n",
       "2                98.0                       550.462   \n",
       "3               101.0                       482.532   \n",
       "4               100.0                       461.780   \n",
       "\n",
       "   Registered vehicles (thousands)  Vehicle-miles traveled (millions)  \\\n",
       "0                          671.529                             9261.0   \n",
       "1                          240.403                             3742.0   \n",
       "2                          551.516                             7855.0   \n",
       "3                          681.115                             4990.0   \n",
       "4                          721.835                             7594.0   \n",
       "\n",
       "   Miles traveled per vehicle  Fatalities per 100K licensed drivers  \\\n",
       "0                13790.915954                             43.137461   \n",
       "1                15565.529548                             12.316611   \n",
       "2                14242.560506                             17.803227   \n",
       "3                 7326.222444                             20.931254   \n",
       "4                10520.409789                             21.655334   \n",
       "\n",
       "   Fatalities per 100K registered vehicles  \\\n",
       "0                                24.421879   \n",
       "1                                17.886632   \n",
       "2                                17.769203   \n",
       "3                                14.828627   \n",
       "4                                13.853581   \n",
       "\n",
       "   Fatalities per 100M vehicle-miles traveled  \\\n",
       "0                                    1.770867   \n",
       "1                                    1.149118   \n",
       "2                                    1.247613   \n",
       "3                                    2.024048   \n",
       "4                                    1.316829   \n",
       "\n",
       "   Fatalities involving high blood alcohol  Percent Alcohol-Related  \\\n",
       "0                                     54.0                32.926829   \n",
       "1                                     12.0                27.906977   \n",
       "2                                     20.0                20.408163   \n",
       "3                                     30.0                29.702970   \n",
       "4                                     35.0                35.000000   \n",
       "\n",
       "   Total Population  Urban Population  Rural Population  Pct Urban Population  \n",
       "0          493782.0          322073.0          171709.0             65.225747  \n",
       "1          572059.0          572059.0               0.0            100.000000  \n",
       "2          608827.0          232550.0          376277.0             38.196401  \n",
       "3          626932.0          411955.0          214977.0             65.709678  \n",
       "4          642200.0          358394.0          283806.0             55.807225  "
      ]
     },
     "execution_count": 5,
     "metadata": {},
     "output_type": "execute_result"
    }
   ],
   "source": [
    "total_df = dataset_arrange('Matlab_accidents.mat')\n",
    "total_df.head()"
   ]
  },
  {
   "cell_type": "code",
   "execution_count": 6,
   "id": "d3709cc2",
   "metadata": {},
   "outputs": [],
   "source": [
    "# Function for shuffling and splitting the data into training and testing (Single independent variable)"
   ]
  },
  {
   "cell_type": "code",
   "execution_count": 7,
   "id": "ef7053b2",
   "metadata": {},
   "outputs": [],
   "source": [
    "def BT20ECE097_split_1(total_df,ratio):\n",
    "    output = []\n",
    "    total_df = total_df.sample(frac = 1,random_state = 30) \n",
    "    X = np.array(total_df['Licensed drivers (thousands)'])\n",
    "    Y = np.array(total_df['Fatalities per 100K licensed drivers'])\n",
    "    full_train = math.floor(ratio * X.shape[0])\n",
    "    full_test = math.ceil((1-ratio) * X.shape[0])\n",
    "    X_train = X[:full_train]\n",
    "    Y_train = Y[:full_train]\n",
    "    X_test = X[full_train:]\n",
    "    Y_test = Y[full_train:]\n",
    "    output = [X_train,Y_train,X_test,Y_test]\n",
    "    return output"
   ]
  },
  {
   "cell_type": "code",
   "execution_count": 8,
   "id": "98b56925",
   "metadata": {},
   "outputs": [],
   "source": [
    "list_data_1 = []\n",
    "list_data_1 = BT20ECE097_split_1(total_df,0.7)\n",
    "# print(list_data_1[0])"
   ]
  },
  {
   "cell_type": "code",
   "execution_count": 9,
   "id": "8b732674",
   "metadata": {},
   "outputs": [],
   "source": [
    "# function for pseudo inverse method of Linear Regression (Single independent variable)"
   ]
  },
  {
   "cell_type": "code",
   "execution_count": 10,
   "id": "ce059a4f",
   "metadata": {},
   "outputs": [],
   "source": [
    "def BT20ECE097_LR_PI_1(data):\n",
    "    X = data[0][np.newaxis]\n",
    "    o = np.ones(len(data[0]))\n",
    "    Z = np.hstack((X.T, np.atleast_2d(o).T))\n",
    "    Y = data[1]\n",
    "    Zpi = la.pinv(Z)\n",
    "    W = np.matmul(Zpi,Y.T)\n",
    "    return W"
   ]
  },
  {
   "cell_type": "code",
   "execution_count": 11,
   "id": "3ca544c6",
   "metadata": {},
   "outputs": [
    {
     "name": "stdout",
     "output_type": "stream",
     "text": [
      "Weights found for pseudo inverse method by taking single independent variable are  [-8.75849931e-04  2.68491362e+01]\n"
     ]
    }
   ],
   "source": [
    "weights_1 = BT20ECE097_LR_PI_1(list_data_1)\n",
    "print(\"Weights found for pseudo inverse method by taking single independent variable are \",weights_1)"
   ]
  },
  {
   "cell_type": "code",
   "execution_count": 12,
   "id": "418e75fe",
   "metadata": {},
   "outputs": [],
   "source": [
    "def err_func(Y,Y_p,data):\n",
    "    wr.filterwarnings('ignore')\n",
    "    err = np.square(np.subtract(Y,Y_p)).mean()\n",
    "    return err"
   ]
  },
  {
   "cell_type": "code",
   "execution_count": 13,
   "id": "574c4145",
   "metadata": {},
   "outputs": [],
   "source": [
    "def predict_Y_1(data,W):\n",
    "    X = data[2][np.newaxis]\n",
    "    o = np.ones(len(data[2]))\n",
    "    Z = np.hstack((X.T, np.atleast_2d(o).T))\n",
    "    Y_p = np.dot(Z,W)\n",
    "    return Y_p    "
   ]
  },
  {
   "cell_type": "code",
   "execution_count": 14,
   "id": "27d2062a",
   "metadata": {},
   "outputs": [],
   "source": [
    "e1 = err_func(list_data_1[3],predict_Y_1(list_data_1,weights_1),list_data_1)"
   ]
  },
  {
   "cell_type": "code",
   "execution_count": 15,
   "id": "dd42088f",
   "metadata": {},
   "outputs": [
    {
     "name": "stdout",
     "output_type": "stream",
     "text": [
      "Testing error found for pseudo inverse method by taking single independent variable is  59.83634206947459\n"
     ]
    }
   ],
   "source": [
    "print(\"Testing error found for pseudo inverse method by taking single independent variable is \",e1)"
   ]
  },
  {
   "cell_type": "code",
   "execution_count": 20,
   "id": "53ff2b06",
   "metadata": {},
   "outputs": [
    {
     "data": {
      "image/png": "[encoded data removed]",
      "text/plain": [
       "<Figure size 640x480 with 1 Axes>"
      ]
     },
     "metadata": {},
     "output_type": "display_data"
    }
   ],
   "source": [
    "plt.scatter(list_data_1[0],list_data_1[1])\n",
    "plt.plot(list_data_1[2],predict_Y_1(list_data_1,weights_1),'--')\n",
    "plt.xlabel(\"Licensed drivers (thousands)\")\n",
    "plt.ylabel(\"Fatalities per 100K licensed drivers\")\n",
    "plt.title(\"Pseudo Inverse (single independent variable)\")\n",
    "plt.show()"
   ]
  },
  {
   "cell_type": "code",
   "execution_count": null,
   "id": "b6aa6c0b",
   "metadata": {},
   "outputs": [],
   "source": []
  },
  {
   "cell_type": "code",
   "execution_count": 21,
   "id": "b300345a",
   "metadata": {},
   "outputs": [],
   "source": [
    "def BT20ECE097_split_2(total_df,ratio):\n",
    "    output = []\n",
    "    total_df = total_df.sample(frac = 1,random_state = 30) \n",
    "    X = np.array(total_df.loc[:, ['Miles traveled per vehicle','Licensed drivers (thousands)','Registered vehicles (thousands)']])\n",
    "    Y = np.array(total_df['Fatalities involving high blood alcohol'])\n",
    "    full_train = math.floor(ratio * X.shape[0])\n",
    "    full_test = math.ceil((1-ratio) * X.shape[0])\n",
    "    X_train = X[:full_train]\n",
    "    Y_train = Y[:full_train]\n",
    "    X_test = X[full_train:]\n",
    "    Y_test = Y[full_train:]\n",
    "    output = [X_train,Y_train,X_test,Y_test]\n",
    "    return output"
   ]
  },
  {
   "cell_type": "code",
   "execution_count": 22,
   "id": "e30b893b",
   "metadata": {},
   "outputs": [],
   "source": [
    "list_data_2 = []\n",
    "list_data_2 = BT20ECE097_split_2(total_df,0.7)\n",
    "# print(list_data_2[0])"
   ]
  },
  {
   "cell_type": "code",
   "execution_count": 23,
   "id": "7d2a4e07",
   "metadata": {},
   "outputs": [],
   "source": [
    "# Function using gradient descent for single independent variable "
   ]
  },
  {
   "cell_type": "code",
   "execution_count": 24,
   "id": "985fe2f3",
   "metadata": {},
   "outputs": [],
   "source": [
    "def BT20ECE097_LR_GD_1(data,n,runs):\n",
    "    m = 0.1\n",
    "    c = 0.01\n",
    "    merr = 1e-10\n",
    "    d = float(len(data[0]))\n",
    "    X = data[0][np.newaxis]\n",
    "    Y = data[1][np.newaxis]\n",
    "    p_err = None\n",
    "    err = []\n",
    "    w = []\n",
    "    for i in range(runs):\n",
    "        Y_p = m*X + c\n",
    "        c_err = err_func(Y,Y_p,data)\n",
    "        if p_err and abs(p_err-c_err)<=merr:\n",
    "            break\n",
    "        p_err = c_err\n",
    "        err.append(c_err)\n",
    "        w.append(m)\n",
    "        dm = (-2/d) * np.sum(np.dot(X.T,(Y-Y_p)))\n",
    "        dc = (-2/d) * np.sum(Y - Y_p)\n",
    "        m = m - n * dm \n",
    "        c = c - n * dc\n",
    "    print(\"Test error using gradient descent algorithm for single independent variable is \",err[-1])\n",
    "    return [m,c,Y_p]"
   ]
  },
  {
   "cell_type": "code",
   "execution_count": 25,
   "id": "97dda795",
   "metadata": {},
   "outputs": [
    {
     "name": "stdout",
     "output_type": "stream",
     "text": [
      "Test error using gradient descent algorithm for single independent variable is  557.2117721099448\n",
      "m =  0.00765003441869854\n",
      "c =  0.009999161815582174\n"
     ]
    }
   ],
   "source": [
    "result_1 = BT20ECE097_LR_GD_1(list_data_1,5e-10,10000)\n",
    "print(\"m = \",result_1[0])\n",
    "print(\"c = \",result_1[1])"
   ]
  },
  {
   "cell_type": "code",
   "execution_count": 29,
   "id": "27f393ec",
   "metadata": {},
   "outputs": [
    {
     "data": {
      "image/png": "[encoded data removed]",
      "text/plain": [
       "<Figure size 640x480 with 1 Axes>"
      ]
     },
     "metadata": {},
     "output_type": "display_data"
    }
   ],
   "source": [
    "plt.scatter(list_data_1[0],list_data_1[1])\n",
    "plt.plot(list_data_1[0],result_1[2].T)\n",
    "plt.xlabel(\"Licensed drivers (thousands)\")\n",
    "plt.ylabel(\"Fatalities per 100K licensed drivers\")\n",
    "plt.title(\"Gradient Descent Algorithm (single independent variable)\")\n",
    "plt.show()"
   ]
  },
  {
   "cell_type": "code",
   "execution_count": 60,
   "id": "2bfcd251",
   "metadata": {},
   "outputs": [],
   "source": [
    "# function for pseudo inverse method of Linear Regression (Multiple independent variables)"
   ]
  },
  {
   "cell_type": "code",
   "execution_count": 61,
   "id": "93f800ba",
   "metadata": {},
   "outputs": [],
   "source": [
    "def BT20ECE097_LR_PI_2(data):\n",
    "    o = np.ones(len(data[0]))\n",
    "    Z = np.hstack((data[0], np.atleast_2d(o).T))\n",
    "    Y = data[1]\n",
    "    Zpi = la.pinv(Z)\n",
    "    W = np.matmul(Zpi,np.transpose(data[1]))\n",
    "    return W"
   ]
  },
  {
   "cell_type": "code",
   "execution_count": 62,
   "id": "05669dee",
   "metadata": {},
   "outputs": [
    {
     "name": "stdout",
     "output_type": "stream",
     "text": [
      "Weights found for pseudo inverse method by taking multiple independent variables are  [ 1.92901484e-02  4.42810607e-02  1.90290646e-02 -2.23382855e+02]\n"
     ]
    }
   ],
   "source": [
    "weights_2 = BT20ECE097_LR_PI_2(list_data_2)\n",
    "print(\"Weights found for pseudo inverse method by taking multiple independent variables are \",weights_2)"
   ]
  },
  {
   "cell_type": "code",
   "execution_count": 63,
   "id": "bdb8b475",
   "metadata": {},
   "outputs": [],
   "source": [
    "def predict_Y_2(data,W):\n",
    "    o = np.ones(len(data[2]))\n",
    "    Z = np.hstack((data[2], np.atleast_2d(o).T))\n",
    "    Y_p = np.dot(Z,W)\n",
    "    return Y_p    "
   ]
  },
  {
   "cell_type": "code",
   "execution_count": 64,
   "id": "278291c8",
   "metadata": {},
   "outputs": [
    {
     "name": "stdout",
     "output_type": "stream",
     "text": [
      "Testing error found for pseudo inverse method by taking multiple independent variables is  20019.936951848656\n"
     ]
    }
   ],
   "source": [
    "e2 = err_func(list_data_2[3],predict_Y_2(list_data_2,weights_2),list_data_2)\n",
    "print(\"Testing error found for pseudo inverse method by taking multiple independent variables is \",e2)"
   ]
  },
  {
   "cell_type": "code",
   "execution_count": 65,
   "id": "29e671a5",
   "metadata": {},
   "outputs": [],
   "source": [
    "# Function using gradient descent for multiple independent variables"
   ]
  },
  {
   "cell_type": "code",
   "execution_count": 72,
   "id": "d9df553f",
   "metadata": {},
   "outputs": [],
   "source": [
    "def BT20ECE097_LR_GD_2(data,n,runs):\n",
    "    X = data[0].T\n",
    "    Y = data[1]\n",
    "    m = np.full(len(X),0.1)\n",
    "    c = 0.01\n",
    "    merr = 1e-10\n",
    "    d = float(len(data[1]))\n",
    "    p_err = None\n",
    "    err = []\n",
    "    for i in range(runs):\n",
    "        a = np.matmul(m,X) \n",
    "        Y_p = a+c\n",
    "        c_err = err_func(Y,Y_p,data)\n",
    "        if p_err and abs(p_err-c_err)<=merr:\n",
    "            break\n",
    "        p_err = c_err\n",
    "        err.append(c_err)\n",
    "        dm = (-2/d) * np.matmul(X,(Y-Y_p))\n",
    "        dc = (-2/d) * np.sum(Y - Y_p)\n",
    "        m = np.subtract(m,n * dm)\n",
    "        c = c-(n * dc)\n",
    "    print(\"Test error using gradient descent algorithm for multiple independent variable is \",err[-1])\n",
    "    return [m,c,Y_p,err]"
   ]
  },
  {
   "cell_type": "code",
   "execution_count": 73,
   "id": "9eb206cf",
   "metadata": {},
   "outputs": [
    {
     "name": "stdout",
     "output_type": "stream",
     "text": [
      "Test error using gradient descent algorithm for multiple independent variable is  7071.764942539254\n",
      "m =  [ 0.00308559  0.10020281 -0.03014224]\n",
      "c =  0.004285034372348597\n"
     ]
    }
   ],
   "source": [
    "result_2 = BT20ECE097_LR_GD_2(list_data_2,5e-10,1000000)\n",
    "print(\"m = \",result_2[0])\n",
    "print(\"c = \",result_2[1])"
   ]
  },
  {
   "cell_type": "code",
   "execution_count": 68,
   "id": "8e8173d2",
   "metadata": {},
   "outputs": [],
   "source": [
    "# Linear Regression using Inbuilt Functions \n",
    "\n",
    "\n",
    "# X = np.array(total_df.loc[:, ['Miles traveled per vehicle','Licensed drivers (thousands)','Registered vehicles (thousands)']])\n",
    "# Y = np.array(total_df['Fatalities involving high blood alcohol'])\n",
    "# X_train,X_test,Y_train,Y_test = train_test_split(X,Y,test_size = 0.3,random_state = 42)\n",
    "# frame_clf = LinearRegression()\n",
    "# frame_clf.fit(X_train,Y_train)\n",
    "# result = frame_clf.predict(X_test)\n",
    "# print(result)\n",
    "# frame_clf.score(X_test,Y_test)"
   ]
  },
  {
   "cell_type": "code",
   "execution_count": null,
   "id": "ffb6da35",
   "metadata": {},
   "outputs": [],
   "source": []
  }
 ],
 "metadata": {
  "kernelspec": {
   "display_name": "Python 3 (ipykernel)",
   "language": "python",
   "name": "python3"
  },
  "language_info": {
   "codemirror_mode": {
    "name": "ipython",
    "version": 3
   },
   "file_extension": ".py",
   "mimetype": "text/x-python",
   "name": "python",
   "nbconvert_exporter": "python",
   "pygments_lexer": "ipython3",
   "version": "3.11.3"
  }
 },
 "nbformat": 4,
 "nbformat_minor": 5
}
